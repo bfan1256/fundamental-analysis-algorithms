{
 "cells": [
  {
   "cell_type": "markdown",
   "metadata": {},
   "source": [
    "# Motley Fool Random Picks Experiment\n",
    "\n",
    "We experiment with the idea of randomly choosing 15 stock picks per month and weighting the results based on inverse volatility via Sharpe Ratio"
   ]
  },
  {
   "cell_type": "code",
   "execution_count": 1,
   "metadata": {},
   "outputs": [],
   "source": [
    "import json\n",
    "import pandas as pd\n",
    "\n",
    "import numpy as np\n",
    "import yfinance as yf\n",
    "\n",
    "from tqdm.notebook import tqdm\n",
    "from datetime import datetime, timedelta\n",
    "from collections import OrderedDict"
   ]
  },
  {
   "cell_type": "code",
   "execution_count": 2,
   "metadata": {},
   "outputs": [],
   "source": [
    "recommendations = pd.read_json('recommendations.json')"
   ]
  },
  {
   "cell_type": "code",
   "execution_count": 3,
   "metadata": {},
   "outputs": [],
   "source": [
    "recommendations['date_recommended'] = pd.to_datetime(recommendations['date_recommended'])"
   ]
  },
  {
   "cell_type": "code",
   "execution_count": 4,
   "metadata": {},
   "outputs": [
    {
     "data": {
      "text/html": [
       "<div>\n",
       "<style scoped>\n",
       "    .dataframe tbody tr th:only-of-type {\n",
       "        vertical-align: middle;\n",
       "    }\n",
       "\n",
       "    .dataframe tbody tr th {\n",
       "        vertical-align: top;\n",
       "    }\n",
       "\n",
       "    .dataframe thead th {\n",
       "        text-align: right;\n",
       "    }\n",
       "</style>\n",
       "<table border=\"1\" class=\"dataframe\">\n",
       "  <thead>\n",
       "    <tr style=\"text-align: right;\">\n",
       "      <th></th>\n",
       "      <th>ticker</th>\n",
       "      <th>date_recommended</th>\n",
       "    </tr>\n",
       "  </thead>\n",
       "  <tbody>\n",
       "    <tr>\n",
       "      <th>243</th>\n",
       "      <td>COST</td>\n",
       "      <td>2002-04-12</td>\n",
       "    </tr>\n",
       "    <tr>\n",
       "      <th>242</th>\n",
       "      <td>PYPL EBAY</td>\n",
       "      <td>2002-05-10</td>\n",
       "    </tr>\n",
       "    <tr>\n",
       "      <th>241</th>\n",
       "      <td>DIS</td>\n",
       "      <td>2002-06-07</td>\n",
       "    </tr>\n",
       "    <tr>\n",
       "      <th>240</th>\n",
       "      <td>ATVI</td>\n",
       "      <td>2002-08-09</td>\n",
       "    </tr>\n",
       "    <tr>\n",
       "      <th>239</th>\n",
       "      <td>AMZN</td>\n",
       "      <td>2002-09-06</td>\n",
       "    </tr>\n",
       "    <tr>\n",
       "      <th>...</th>\n",
       "      <td>...</td>\n",
       "      <td>...</td>\n",
       "    </tr>\n",
       "    <tr>\n",
       "      <th>4</th>\n",
       "      <td>NVTA</td>\n",
       "      <td>2020-02-06</td>\n",
       "    </tr>\n",
       "    <tr>\n",
       "      <th>3</th>\n",
       "      <td>DXCM</td>\n",
       "      <td>2020-02-20</td>\n",
       "    </tr>\n",
       "    <tr>\n",
       "      <th>2</th>\n",
       "      <td>LK</td>\n",
       "      <td>2020-03-05</td>\n",
       "    </tr>\n",
       "    <tr>\n",
       "      <th>1</th>\n",
       "      <td>ZM</td>\n",
       "      <td>2020-03-19</td>\n",
       "    </tr>\n",
       "    <tr>\n",
       "      <th>0</th>\n",
       "      <td>SHOP</td>\n",
       "      <td>2020-04-02</td>\n",
       "    </tr>\n",
       "  </tbody>\n",
       "</table>\n",
       "<p>244 rows × 2 columns</p>\n",
       "</div>"
      ],
      "text/plain": [
       "        ticker date_recommended\n",
       "243       COST       2002-04-12\n",
       "242  PYPL EBAY       2002-05-10\n",
       "241        DIS       2002-06-07\n",
       "240       ATVI       2002-08-09\n",
       "239       AMZN       2002-09-06\n",
       "..         ...              ...\n",
       "4         NVTA       2020-02-06\n",
       "3         DXCM       2020-02-20\n",
       "2           LK       2020-03-05\n",
       "1           ZM       2020-03-19\n",
       "0         SHOP       2020-04-02\n",
       "\n",
       "[244 rows x 2 columns]"
      ]
     },
     "execution_count": 4,
     "metadata": {},
     "output_type": "execute_result"
    }
   ],
   "source": [
    "recommendations.sort_values(by='date_recommended')"
   ]
  },
  {
   "cell_type": "code",
   "execution_count": 5,
   "metadata": {},
   "outputs": [],
   "source": [
    "dates = [\"2004-01-01\", \"2020-01-01\"]\n",
    "\n",
    "def generate_dates_array(dates):\n",
    "    start, end = [datetime.strptime(_, \"%Y-%m-%d\") for _ in dates]\n",
    "    total_months = lambda dt: dt.month + 12 * dt.year\n",
    "    mlist = []\n",
    "    for tot_m in range(total_months(start)-1, total_months(end)):\n",
    "        y, m = divmod(tot_m, 12)\n",
    "        mlist.append(datetime(y, m+1, 1).strftime(\"%Y-%m-%d\"))\n",
    "    return mlist\n",
    "\n",
    "months = generate_dates_array(dates)"
   ]
  },
  {
   "cell_type": "code",
   "execution_count": 6,
   "metadata": {},
   "outputs": [],
   "source": [
    "def inverse_volatility(ticker, end_date, days=252):\n",
    "    data = yf.Ticker(ticker).history(end=end_date)\n",
    "    log_ret = np.log(data['Close'] / data['Close'].shift(1))\n",
    "    return 1 / (np.std(log_ret) * np.sqrt(days))"
   ]
  },
  {
   "cell_type": "code",
   "execution_count": 7,
   "metadata": {},
   "outputs": [],
   "source": [
    "def calculate_weight_allocations(tickers):\n",
    "    ratios = []\n",
    "    final_tickers = []\n",
    "    pct_allocations = []\n",
    "    for ticker in tickers:\n",
    "        if ticker == 'PYPL EBAY' or ticker == 'SINA WB' or ticker == 'BAMXF':\n",
    "            continue\n",
    "        iv = inverse_volatility(ticker, month)\n",
    "        ratios.append(iv)\n",
    "        final_tickers.append(ticker)\n",
    "    total_sharpe = sum(ratios)\n",
    "    for index in range(len(final_tickers)):\n",
    "        pct_allocations.append(ratios[index] / total_sharpe)\n",
    "    return final_tickers, pct_allocations"
   ]
  },
  {
   "cell_type": "code",
   "execution_count": 8,
   "metadata": {},
   "outputs": [],
   "source": [
    "START_AMOUNT = 10000\n",
    "\n",
    "current_value = START_AMOUNT\n",
    "current_holdings = []\n",
    "current_allocations = []"
   ]
  },
  {
   "cell_type": "code",
   "execution_count": 9,
   "metadata": {},
   "outputs": [],
   "source": [
    "def calculate_returns(amt, ticker, weight_allocation, start_month, end_month):\n",
    "    data = yf.Ticker(ticker).history(start=start_month, end=end_month)['Close']\n",
    "    try:\n",
    "        end = data.iloc[-1]\n",
    "        start = data.iloc[0]\n",
    "        pct_return = (end - start)/start\n",
    "    except Exception:\n",
    "        pct_return = 0.05\n",
    "\n",
    "    final_return = (1 + pct_return) * amt * weight_allocation\n",
    "    return final_return"
   ]
  },
  {
   "cell_type": "code",
   "execution_count": null,
   "metadata": {},
   "outputs": [],
   "source": [
    "history = []\n",
    "for index, month in enumerate(tqdm(months)):\n",
    "    if len(current_holdings) != 0:\n",
    "        new_value = 0\n",
    "        history.append(current_value)\n",
    "        for i in range(len(current_holdings)):\n",
    "            new_value += calculate_returns(current_value, current_holdings[i], current_allocations[i], months[index - 1], month)\n",
    "        current_value = new_value\n",
    "    previous_recommendations = recommendations[recommendations['date_recommended'] <= month]['ticker'].unique()\n",
    "    if len(previous_recommendations) < 15:\n",
    "        current_holdings, current_allocations = calculate_weight_allocations(previous_recommendations)\n",
    "    else:\n",
    "        tickers = np.random.choice(previous_recommendations, 15)\n",
    "        current_holdings, current_allocations = calculate_weight_allocations(tickers)\n",
    "    "
   ]
  },
  {
   "cell_type": "code",
   "execution_count": null,
   "metadata": {},
   "outputs": [],
   "source": [
    "current_value"
   ]
  },
  {
   "cell_type": "code",
   "execution_count": null,
   "metadata": {},
   "outputs": [],
   "source": []
  }
 ],
 "metadata": {
  "kernelspec": {
   "display_name": "Python 3",
   "language": "python",
   "name": "python3"
  },
  "language_info": {
   "codemirror_mode": {
    "name": "ipython",
    "version": 3
   },
   "file_extension": ".py",
   "mimetype": "text/x-python",
   "name": "python",
   "nbconvert_exporter": "python",
   "pygments_lexer": "ipython3",
   "version": "3.8.0"
  }
 },
 "nbformat": 4,
 "nbformat_minor": 4
}
